version https://git-lfs.github.com/spec/v1
oid sha256:ee979290e86892a7be3b563ddbdc32da4aff018f6b2a060e9cc9a78e22738bc2
size 375550
