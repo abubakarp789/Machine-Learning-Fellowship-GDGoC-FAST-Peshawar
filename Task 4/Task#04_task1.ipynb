{
 "cells": [
  {
   "cell_type": "markdown",
   "metadata": {},
   "source": [
    "# Task 1: Optimize Sweet Item Placement for Eid Sales "
   ]
  },
  {
   "cell_type": "code",
   "execution_count": 9,
   "metadata": {},
   "outputs": [],
   "source": [
    "from mlxtend.frequent_patterns import fpgrowth\n",
    "from mlxtend.frequent_patterns import association_rules\n",
    "from mlxtend.preprocessing import TransactionEncoder\n",
    "import pandas as pd"
   ]
  },
  {
   "cell_type": "code",
   "execution_count": 10,
   "metadata": {},
   "outputs": [],
   "source": [
    "# Given list of transactions\n",
    "transactions = [\n",
    "    [\"gulab jamun\", \"barfi\", \"jalebi\"],\n",
    "    [\"gulab jamun\", \"laddu\", \"halwa\", \"kheer\"],\n",
    "    [\"barfi\", \"jalebi\", \"laddu\"],\n",
    "    [\"gulab jamun\", \"barfi\", \"laddu\", \"jalebi\"],\n",
    "    [\"halwa\", \"kheer\", \"soan papdi\"],\n",
    "    [\"gulab jamun\", \"barfi\", \"jalebi\", \"rasmalai\"],\n",
    "    [\"barfi\", \"jalebi\", \"soan papdi\", \"peda\"],\n",
    "    [\"laddu\", \"kheer\", \"barfi\"],\n",
    "    [\"gulab jamun\", \"barfi\", \"jalebi\", \"rasmalai\"],\n",
    "    [\"halwa\", \"soan papdi\", \"kheer\"]\n",
    "]"
   ]
  },
  {
   "cell_type": "code",
   "execution_count": 11,
   "metadata": {},
   "outputs": [],
   "source": [
    "# Convert transactions into binary format\n",
    "te = TransactionEncoder()\n",
    "te_ary = te.fit(transactions).transform(transactions)\n",
    "df = pd.DataFrame(te_ary, columns=te.columns_)"
   ]
  },
  {
   "cell_type": "markdown",
   "metadata": {},
   "source": [
    "### **Try `min_support = 0.3`:**"
   ]
  },
  {
   "cell_type": "code",
   "execution_count": 13,
   "metadata": {},
   "outputs": [
    {
     "name": "stdout",
     "output_type": "stream",
     "text": [
      "Frequent Itemsets:\n",
      "    support                      itemsets\n",
      "0       0.7                       (barfi)\n",
      "1       0.6                      (jalebi)\n",
      "2       0.5                 (gulab jamun)\n",
      "3       0.4                       (laddu)\n",
      "4       0.4                       (kheer)\n",
      "5       0.3                       (halwa)\n",
      "6       0.3                  (soan papdi)\n",
      "7       0.6               (jalebi, barfi)\n",
      "8       0.4         (gulab jamun, jalebi)\n",
      "9       0.4          (gulab jamun, barfi)\n",
      "10      0.4  (gulab jamun, jalebi, barfi)\n",
      "11      0.3                (barfi, laddu)\n",
      "12      0.3                (kheer, halwa)\n",
      "\n",
      "Association Rules:\n",
      "              antecedents            consequents  support  confidence  \\\n",
      "0                (jalebi)                (barfi)      0.6    1.000000   \n",
      "1                 (barfi)               (jalebi)      0.6    0.857143   \n",
      "2           (gulab jamun)               (jalebi)      0.4    0.800000   \n",
      "3                (jalebi)          (gulab jamun)      0.4    0.666667   \n",
      "4           (gulab jamun)                (barfi)      0.4    0.800000   \n",
      "5                 (barfi)          (gulab jamun)      0.4    0.571429   \n",
      "6   (gulab jamun, jalebi)                (barfi)      0.4    1.000000   \n",
      "7    (gulab jamun, barfi)               (jalebi)      0.4    1.000000   \n",
      "8         (jalebi, barfi)          (gulab jamun)      0.4    0.666667   \n",
      "9           (gulab jamun)        (jalebi, barfi)      0.4    0.800000   \n",
      "10               (jalebi)   (gulab jamun, barfi)      0.4    0.666667   \n",
      "11                (barfi)  (gulab jamun, jalebi)      0.4    0.571429   \n",
      "12                (barfi)                (laddu)      0.3    0.428571   \n",
      "13                (laddu)                (barfi)      0.3    0.750000   \n",
      "14                (kheer)                (halwa)      0.3    0.750000   \n",
      "15                (halwa)                (kheer)      0.3    1.000000   \n",
      "\n",
      "        lift  \n",
      "0   1.428571  \n",
      "1   1.428571  \n",
      "2   1.333333  \n",
      "3   1.333333  \n",
      "4   1.142857  \n",
      "5   1.142857  \n",
      "6   1.428571  \n",
      "7   1.666667  \n",
      "8   1.333333  \n",
      "9   1.333333  \n",
      "10  1.666667  \n",
      "11  1.428571  \n",
      "12  1.071429  \n",
      "13  1.071429  \n",
      "14  2.500000  \n",
      "15  2.500000  \n"
     ]
    }
   ],
   "source": [
    "# Apply FP-Growth with a minimum support threshold\n",
    "frequent_itemsets = fpgrowth(df, min_support=0.3, use_colnames=True)\n",
    "\n",
    "# Generate association rules\n",
    "rules = association_rules(frequent_itemsets, metric=\"lift\", min_threshold=1.0)\n",
    "\n",
    "# Display results\n",
    "print(\"Frequent Itemsets:\")\n",
    "print(frequent_itemsets)\n",
    "\n",
    "print(\"\\nAssociation Rules:\")\n",
    "print(rules[['antecedents', 'consequents', 'support', 'confidence', 'lift']])"
   ]
  },
  {
   "cell_type": "markdown",
   "metadata": {},
   "source": [
    "### **Try `min_support = 0.5`:**"
   ]
  },
  {
   "cell_type": "code",
   "execution_count": 5,
   "metadata": {},
   "outputs": [
    {
     "name": "stdout",
     "output_type": "stream",
     "text": [
      "Frequent Itemsets:\n",
      "   support         itemsets\n",
      "0      0.7          (barfi)\n",
      "1      0.6         (jalebi)\n",
      "2      0.5    (gulab jamun)\n",
      "3      0.6  (jalebi, barfi)\n",
      "\n",
      "Association Rules:\n",
      "  antecedents consequents  support  confidence      lift\n",
      "0    (jalebi)     (barfi)      0.6    1.000000  1.428571\n",
      "1     (barfi)    (jalebi)      0.6    0.857143  1.428571\n"
     ]
    }
   ],
   "source": [
    "# Apply FP-Growth with a minimum support threshold\n",
    "frequent_itemsets = fpgrowth(df, min_support=0.5, use_colnames=True)\n",
    "\n",
    "# Generate association rules\n",
    "rules = association_rules(frequent_itemsets, metric=\"lift\", min_threshold=1.0)\n",
    "\n",
    "# Display results\n",
    "print(\"Frequent Itemsets:\")\n",
    "print(frequent_itemsets)\n",
    "\n",
    "print(\"\\nAssociation Rules:\")\n",
    "print(rules[['antecedents', 'consequents', 'support', 'confidence', 'lift']])"
   ]
  },
  {
   "cell_type": "markdown",
   "metadata": {},
   "source": [
    "### **Try `min_support = 0.2`:**"
   ]
  },
  {
   "cell_type": "code",
   "execution_count": 6,
   "metadata": {},
   "outputs": [
    {
     "name": "stdout",
     "output_type": "stream",
     "text": [
      "Frequent Itemsets:\n",
      "    support                                itemsets\n",
      "0       0.7                                 (barfi)\n",
      "1       0.6                                (jalebi)\n",
      "2       0.5                           (gulab jamun)\n",
      "3       0.4                                 (laddu)\n",
      "4       0.4                                 (kheer)\n",
      "5       0.3                                 (halwa)\n",
      "6       0.3                            (soan papdi)\n",
      "7       0.2                              (rasmalai)\n",
      "8       0.6                         (jalebi, barfi)\n",
      "9       0.4                   (gulab jamun, jalebi)\n",
      "10      0.4                    (gulab jamun, barfi)\n",
      "11      0.4            (gulab jamun, jalebi, barfi)\n",
      "12      0.2                    (gulab jamun, laddu)\n",
      "13      0.3                          (barfi, laddu)\n",
      "14      0.2                         (jalebi, laddu)\n",
      "15      0.2                  (jalebi, barfi, laddu)\n",
      "16      0.2                          (kheer, laddu)\n",
      "17      0.3                          (kheer, halwa)\n",
      "18      0.2                     (halwa, soan papdi)\n",
      "19      0.2              (kheer, halwa, soan papdi)\n",
      "20      0.2                     (kheer, soan papdi)\n",
      "21      0.2                 (gulab jamun, rasmalai)\n",
      "22      0.2                      (rasmalai, jalebi)\n",
      "23      0.2                       (rasmalai, barfi)\n",
      "24      0.2         (gulab jamun, jalebi, rasmalai)\n",
      "25      0.2          (gulab jamun, barfi, rasmalai)\n",
      "26      0.2               (rasmalai, jalebi, barfi)\n",
      "27      0.2  (gulab jamun, jalebi, barfi, rasmalai)\n",
      "\n",
      "Association Rules:\n",
      "          antecedents                      consequents  support  confidence  \\\n",
      "0            (jalebi)                          (barfi)      0.6    1.000000   \n",
      "1             (barfi)                         (jalebi)      0.6    0.857143   \n",
      "2       (gulab jamun)                         (jalebi)      0.4    0.800000   \n",
      "3            (jalebi)                    (gulab jamun)      0.4    0.666667   \n",
      "4       (gulab jamun)                          (barfi)      0.4    0.800000   \n",
      "..                ...                              ...      ...         ...   \n",
      "67  (rasmalai, barfi)            (gulab jamun, jalebi)      0.2    1.000000   \n",
      "68      (gulab jamun)        (rasmalai, jalebi, barfi)      0.2    0.400000   \n",
      "69           (jalebi)   (gulab jamun, barfi, rasmalai)      0.2    0.333333   \n",
      "70            (barfi)  (gulab jamun, jalebi, rasmalai)      0.2    0.285714   \n",
      "71         (rasmalai)     (gulab jamun, jalebi, barfi)      0.2    1.000000   \n",
      "\n",
      "        lift  \n",
      "0   1.428571  \n",
      "1   1.428571  \n",
      "2   1.333333  \n",
      "3   1.333333  \n",
      "4   1.142857  \n",
      "..       ...  \n",
      "67  2.500000  \n",
      "68  2.000000  \n",
      "69  1.666667  \n",
      "70  1.428571  \n",
      "71  2.500000  \n",
      "\n",
      "[72 rows x 5 columns]\n"
     ]
    }
   ],
   "source": [
    "# Apply FP-Growth with a minimum support threshold\n",
    "frequent_itemsets = fpgrowth(df, min_support=0.2, use_colnames=True)\n",
    "\n",
    "# Generate association rules\n",
    "rules = association_rules(frequent_itemsets, metric=\"lift\", min_threshold=1.0)\n",
    "\n",
    "# Display results\n",
    "print(\"Frequent Itemsets:\")\n",
    "print(frequent_itemsets)\n",
    "\n",
    "print(\"\\nAssociation Rules:\")\n",
    "print(rules[['antecedents', 'consequents', 'support', 'confidence', 'lift']])"
   ]
  },
  {
   "cell_type": "markdown",
   "metadata": {},
   "source": [
    "# Answering the Questions\n",
    "\n",
    "## 1. What are the top frequent sweet itemsets found using FP-Growth?\n",
    "\n",
    "Based on the FP-Growth algorithm, the most frequently bought sweet items and their support values are:\n",
    "\n",
    "### **Single Items:**\n",
    "- **(barfi)** - 70% support  \n",
    "- **(jalebi)** - 60% support  \n",
    "- **(gulab jamun)** - 50% support  \n",
    "- **(laddu)** - 40% support  \n",
    "- **(kheer)** - 40% support  \n",
    "- **(halwa)** - 30% support  \n",
    "- **(soan papdi)** - 30% support  \n",
    "\n",
    "### **Frequent Item Pairs & Sets:**\n",
    "- **(jalebi, barfi)** - 60% support  \n",
    "- **(gulab jamun, jalebi)** - 40% support  \n",
    "- **(gulab jamun, barfi)** - 40% support  \n",
    "- **(gulab jamun, jalebi, barfi)** - 40% support  \n",
    "- **(barfi, laddu)** - 30% support  \n",
    "- **(kheer, halwa)** - 30% support  \n",
    "\n",
    "---\n",
    "\n",
    "## 2. How can the store owner arrange sweet items together to increase Eid sales?\n",
    "\n",
    "### **Optimization Strategies for Eid Sales:**\n",
    "1. **Place frequently bought items together:**  \n",
    "   - `Barfi` and `Jalebi` have high support and often appear together (60%), so they should be placed side by side.  \n",
    "   - `Gulab Jamun`, `Jalebi`, and `Barfi` frequently appear in the same transaction (40%), so they should be displayed close to each other.  \n",
    "\n",
    "2. **Create Combo Deals:**  \n",
    "   - Offer discounts on frequently bought combinations:  \n",
    "     - **\"Barfi + Jalebi Combo\"** (Most frequent pair)  \n",
    "     - **\"Gulab Jamun + Jalebi + Barfi Combo\"** (A strong combination)  \n",
    "     - **\"Halwa + Kheer Combo\"** (Frequently bought together)  \n",
    "\n",
    "3. **Stock More Popular Items:**  \n",
    "   - `Barfi` and `Jalebi` should have the highest stock since they are in 70% and 60% of transactions, respectively.  \n",
    "   - `Gulab Jamun` should also be prioritized, as it appears in 50% of transactions.  \n",
    "\n",
    "---\n",
    "\n",
    "## 3. Experiment by changing the `min_support` value\n",
    "\n",
    "### **Try `min_support = 0.5`:**\n",
    "```python\n",
    "frequent_itemsets = fpgrowth(df, min_support=0.5, use_colnames=True)\n"
   ]
  },
  {
   "cell_type": "code",
   "execution_count": 14,
   "metadata": {},
   "outputs": [
    {
     "name": "stdout",
     "output_type": "stream",
     "text": [
      "Frequent Itemsets:\n",
      "   support         itemsets\n",
      "0      0.7          (barfi)\n",
      "1      0.6         (jalebi)\n",
      "2      0.5    (gulab jamun)\n",
      "3      0.6  (jalebi, barfi)\n",
      "\n",
      "Association Rules:\n",
      "  antecedents consequents  support  confidence      lift\n",
      "0    (jalebi)     (barfi)      0.6    1.000000  1.428571\n",
      "1     (barfi)    (jalebi)      0.6    0.857143  1.428571\n"
     ]
    }
   ],
   "source": [
    "# Apply FP-Growth with a minimum support threshold\n",
    "frequent_itemsets = fpgrowth(df, min_support=0.5, use_colnames=True)\n",
    "\n",
    "# Generate association rules\n",
    "rules = association_rules(frequent_itemsets, metric=\"lift\", min_threshold=1.0)\n",
    "\n",
    "# Display results\n",
    "print(\"Frequent Itemsets:\")\n",
    "print(frequent_itemsets)\n",
    "\n",
    "print(\"\\nAssociation Rules:\")\n",
    "print(rules[['antecedents', 'consequents', 'support', 'confidence', 'lift']])"
   ]
  },
  {
   "cell_type": "code",
   "execution_count": null,
   "metadata": {},
   "outputs": [],
   "source": []
  }
 ],
 "metadata": {
  "kernelspec": {
   "display_name": "Python 3",
   "language": "python",
   "name": "python3"
  },
  "language_info": {
   "codemirror_mode": {
    "name": "ipython",
    "version": 3
   },
   "file_extension": ".py",
   "mimetype": "text/x-python",
   "name": "python",
   "nbconvert_exporter": "python",
   "pygments_lexer": "ipython3",
   "version": "3.12.6"
  }
 },
 "nbformat": 4,
 "nbformat_minor": 2
}
